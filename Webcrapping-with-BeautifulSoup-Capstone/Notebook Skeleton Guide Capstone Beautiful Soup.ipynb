{
 "cells": [
  {
   "cell_type": "markdown",
   "metadata": {},
   "source": [
    "# Capstone Webscrapping using BeautifulSoup\n",
    "\n",
    "This notebook contains guidances & tasks on the data processing for the application\n",
    "Coursebook: Python for Data Analysts\n",
    "\n",
    "- Prepared by : Mohamad Gandhi Ardi Wibawanto\n",
    "- Batch       : Vulcan DA Online\n",
    "\n",
    "## Background\n",
    "\n",
    "### US Dollar (USD) To Indonesian Rupiah (IDR) Exchange Rate History\n",
    "- We will the US Dollar (USD) to Indonesian Rupiah (IDR) exchange rate history summary page with 180 days of USD to IDR rate \n",
    "\n",
    "## Requirements Library\n",
    "\n",
    "- Install package requirements\n",
    "    ```\n",
    "    pip install -r requirements.txt\n",
    "    ```\n",
    "\n",
    "## Requesting the Data and Creating a BeautifulSoup\n",
    "\n",
    "Let's begin with requesting the web from the site with `get` method."
   ]
  },
  {
   "cell_type": "code",
   "execution_count": 47,
   "metadata": {
    "ExecuteTime": {
     "end_time": "2020-01-13T05:12:23.275508Z",
     "start_time": "2020-01-13T05:12:20.009898Z"
    }
   },
   "outputs": [],
   "source": [
    "import requests\n",
    "\n",
    "url_get = requests.get('https://www.exchange-rates.org/exchange-rate-history/usd-idr')"
   ]
  },
  {
   "cell_type": "markdown",
   "metadata": {},
   "source": [
    "To visualize what exactly you get from the `request.get`, we can use .content to see what we exactly get, in here i slice it so it won't make our screen full of the html we get from the page. You can delete the slicing if you want to see what we fully get."
   ]
  },
  {
   "cell_type": "code",
   "execution_count": 48,
   "metadata": {
    "ExecuteTime": {
     "end_time": "2020-01-13T05:12:23.290648Z",
     "start_time": "2020-01-13T05:12:23.277650Z"
    }
   },
   "outputs": [
    {
     "data": {
      "text/plain": [
       "b'!DOCTYPE html>\\r\\n<!--[if lt IE 9]>\\r\\n<html class=\"no-js ie8 oldie\" lang=\"en\" xml:lang=\\'en\\'>\\r\\n<![endif]-->\\r\\n<!--[if gt IE 8]><!--><html class=\"no-js\" lang=\"en\" xml:lang=\\'en\\'><!--<![endif]-->\\r\\n<head>\\r\\n<title>USD to IDR exchange rate history</title>\\r\\n<meta http-equiv=\"X-UA-Compatible\" content=\"IE=edge\">\\r\\n<meta name=\"viewport\" content=\"width=device-width, initial-scale=1, maximum-scale=5\">\\r\\n<meta charset=\"utf-8\" /><meta http-equiv=\"Content-Type\" content=\"text/html; charset=utf-8\" />\\r\\n<base href=\"http'"
      ]
     },
     "execution_count": 48,
     "metadata": {},
     "output_type": "execute_result"
    }
   ],
   "source": [
    "url_get.content[1:500]"
   ]
  },
  {
   "cell_type": "markdown",
   "metadata": {},
   "source": [
    "As we can see we get a very unstructured and complex html, which actually contains the codes needed to show the webpages on your web browser. But we as human still confused what and where we can use that piece of code, so here where we use the beautifulsoup. Beautiful soup class will result a beautifulsoup object. Beautiful Soup transforms a complex HTML document into a complex tree of Python objects. \n",
    "\n",
    "Let's make Beautiful soup object and feel free to explore the object here."
   ]
  },
  {
   "cell_type": "code",
   "execution_count": 49,
   "metadata": {
    "ExecuteTime": {
     "end_time": "2020-01-13T05:12:23.808122Z",
     "start_time": "2020-01-13T05:12:23.292610Z"
    }
   },
   "outputs": [
    {
     "name": "stdout",
     "output_type": "stream",
     "text": [
      "<class 'bs4.BeautifulSoup'>\n"
     ]
    }
   ],
   "source": [
    "from bs4 import BeautifulSoup \n",
    "\n",
    "soup = BeautifulSoup(url_get.content,\"html.parser\")\n",
    "print(type(soup))"
   ]
  },
  {
   "cell_type": "code",
   "execution_count": 50,
   "metadata": {},
   "outputs": [
    {
     "name": "stdout",
     "output_type": "stream",
     "text": [
      "<!DOCTYPE html>\n",
      "<!--[if lt IE 9]>\n",
      "<html class=\"no-js ie8 oldie\" lang=\"en\" xml:lang='en'>\n",
      "<![endif]-->\n",
      "<!--[if gt IE 8]><!-->\n",
      "<html class=\"no-js\" lang=\"en\" xml:lang=\"en\">\n",
      " <!--<![endif]-->\n",
      " <head>\n",
      "  <title>\n",
      "   USD to IDR exchange rate history\n",
      "  </title>\n",
      "  <meta content=\"IE=edge\" http-equiv=\"X-UA-Compatible\"/>\n",
      "  <meta content=\"width=device-width, initial-scale=1, maximum-scale=5\" name=\"viewport\"/>\n",
      "  <meta charset=\"utf-8\">\n",
      "   <meta content=\"text/html; charset=utf-8\" http-equiv=\"Content-Type\">\n",
      "   \n"
     ]
    }
   ],
   "source": [
    "print(soup.prettify()[:500])"
   ]
  },
  {
   "cell_type": "markdown",
   "metadata": {},
   "source": [
    "## Finding the right key to scrap the data & Extracting the right information"
   ]
  },
  {
   "cell_type": "markdown",
   "metadata": {},
   "source": [
    "<img src=\"asset/image1.jpg\">\n",
    "\n",
    "\n",
    "In the HTML address used, it is identified that the exchange rate data information code key to be retrieved is in the `tbody` section. Then it is used in the `find()` function to get all the information contained in the HTML `tbody`. Then use `find.all()` to explore other data for the repeating keyword."
   ]
  },
  {
   "cell_type": "code",
   "execution_count": 51,
   "metadata": {
    "ExecuteTime": {
     "end_time": "2020-01-13T05:12:23.878904Z",
     "start_time": "2020-01-13T05:12:23.854974Z"
    }
   },
   "outputs": [
    {
     "name": "stdout",
     "output_type": "stream",
     "text": [
      "tbody>\n",
      " <tr>\n",
      "  <td>\n",
      "   <a class=\"w\" href=\"/exchange-rate-history/usd-idr-2023-05-12\">\n",
      "    May 12, 2023\n",
      "   </a>\n",
      "   <a class=\"n\" href=\"/exchange-rate-history/usd-idr-2023-05-12\">\n",
      "    2023-5-12\n",
      "   </a>\n",
      "  </td>\n",
      "  <td>\n",
      "   <span class=\"w\">\n",
      "    <span class=\"nowrap\">\n",
      "     <span class=\"currencySymbol\">\n",
      "      $\n",
      "     </span>\n",
      "     1 =\n",
      "    </span>\n",
      "    <span class=\"nowrap\">\n",
      "     <span class=\"currencySymbol\">\n",
      "      Rp\n",
      "     </span>\n",
      "     14,844\n",
      "    </span>\n",
      "   </span>\n",
      "   <span class=\"n\">\n",
      "    <span class=\"nowrap\"\n"
     ]
    }
   ],
   "source": [
    "table = soup.find('tbody')\n",
    "print(table.prettify()[1:500])"
   ]
  },
  {
   "cell_type": "code",
   "execution_count": 52,
   "metadata": {},
   "outputs": [
    {
     "data": {
      "text/plain": [
       "[<a class=\"n\" href=\"/exchange-rate-history/usd-idr-2023-05-12\">2023-5-12</a>,\n",
       " <a class=\"n\" href=\"/exchange-rate-history/usd-idr-2023-05-11\">2023-5-11</a>,\n",
       " <a class=\"n\" href=\"/exchange-rate-history/usd-idr-2023-05-10\">2023-5-10</a>,\n",
       " <a class=\"n\" href=\"/exchange-rate-history/usd-idr-2023-05-09\">2023-5-9</a>,\n",
       " <a class=\"n\" href=\"/exchange-rate-history/usd-idr-2023-05-08\">2023-5-8</a>]"
      ]
     },
     "execution_count": 52,
     "metadata": {},
     "output_type": "execute_result"
    }
   ],
   "source": [
    "table.find_all('a', attrs={'class':'n'})[:5]"
   ]
  },
  {
   "cell_type": "code",
   "execution_count": 53,
   "metadata": {
    "scrolled": false
   },
   "outputs": [
    {
     "data": {
      "text/plain": [
       "'2023-5-9'"
      ]
     },
     "execution_count": 53,
     "metadata": {},
     "output_type": "execute_result"
    }
   ],
   "source": [
    "table.find_all('a', attrs={'class':'n'})[3].text"
   ]
  },
  {
   "cell_type": "code",
   "execution_count": 54,
   "metadata": {
    "scrolled": false
   },
   "outputs": [
    {
     "data": {
      "text/plain": [
       "[<span class=\"nowrap\"><span class=\"currencySymbol\">$</span>1 =</span>,\n",
       " <span class=\"nowrap\"><span class=\"currencySymbol\">Rp</span>14,844</span>,\n",
       " <span class=\"nowrap\"><span class=\"currencySymbol\">$</span>1 =</span>,\n",
       " <span class=\"nowrap\"><span class=\"currencySymbol\">Rp</span>14,844</span>,\n",
       " <span class=\"nowrap\"><span class=\"currencySymbol\">$</span>1 =</span>,\n",
       " <span class=\"nowrap\"><span class=\"currencySymbol\">Rp</span>14,776</span>]"
      ]
     },
     "execution_count": 54,
     "metadata": {},
     "output_type": "execute_result"
    }
   ],
   "source": [
    "table.find_all('span', attrs={'class':'nowrap'})[:6]"
   ]
  },
  {
   "cell_type": "code",
   "execution_count": 55,
   "metadata": {},
   "outputs": [
    {
     "data": {
      "text/plain": [
       "'$1 ='"
      ]
     },
     "execution_count": 55,
     "metadata": {},
     "output_type": "execute_result"
    }
   ],
   "source": [
    "table.find_all('span', attrs={'class':'nowrap'})[0].text"
   ]
  },
  {
   "cell_type": "code",
   "execution_count": 56,
   "metadata": {},
   "outputs": [
    {
     "data": {
      "text/plain": [
       "'Rp14,844'"
      ]
     },
     "execution_count": 56,
     "metadata": {},
     "output_type": "execute_result"
    }
   ],
   "source": [
    "table.find_all('span', attrs={'class':'nowrap'})[1].text"
   ]
  },
  {
   "cell_type": "code",
   "execution_count": 57,
   "metadata": {},
   "outputs": [
    {
     "data": {
      "text/plain": [
       "130"
      ]
     },
     "execution_count": 57,
     "metadata": {},
     "output_type": "execute_result"
    }
   ],
   "source": [
    "row = table.find_all('a', attrs={'class':'n'})\n",
    "row_length = len(row)\n",
    "row_length"
   ]
  },
  {
   "cell_type": "code",
   "execution_count": 58,
   "metadata": {},
   "outputs": [
    {
     "data": {
      "text/plain": [
       "520"
      ]
     },
     "execution_count": 58,
     "metadata": {},
     "output_type": "execute_result"
    }
   ],
   "source": [
    "row_kurs = table.find_all('span', attrs={'class':'nowrap'})\n",
    "row_length_kurs = len(row_kurs)\n",
    "row_length_kurs"
   ]
  },
  {
   "cell_type": "markdown",
   "metadata": {},
   "source": [
    "In the scrapping process, a loop function is used to retrieve the necessary data according to the keywords used, namely ('a', attrs={'class':'n'}) for date data and ('span', attrs={'class' :'nowrap'}) for exchange rate data. As can be seen in the previous code, the information structure of the exchange rate data, we will only retrieve the rupiah exchange rate data every 4 data jumps (index : 1, 5, 9, 13, etc., up to data 516). Use the lopping function to retrieve the required data as follows:"
   ]
  },
  {
   "cell_type": "code",
   "execution_count": 59,
   "metadata": {},
   "outputs": [
    {
     "data": {
      "text/plain": [
       "['2023-5-12',\n",
       " '2023-5-11',\n",
       " '2023-5-10',\n",
       " '2023-5-9',\n",
       " '2023-5-8',\n",
       " '2023-5-5',\n",
       " '2023-5-4',\n",
       " '2023-5-3',\n",
       " '2023-5-2',\n",
       " '2023-5-1',\n",
       " '2023-4-28',\n",
       " '2023-4-27',\n",
       " '2023-4-26',\n",
       " '2023-4-25',\n",
       " '2023-4-24',\n",
       " '2023-4-21',\n",
       " '2023-4-20',\n",
       " '2023-4-19',\n",
       " '2023-4-18',\n",
       " '2023-4-17',\n",
       " '2023-4-14',\n",
       " '2023-4-13',\n",
       " '2023-4-12',\n",
       " '2023-4-11',\n",
       " '2023-4-10',\n",
       " '2023-4-7',\n",
       " '2023-4-6',\n",
       " '2023-4-5',\n",
       " '2023-4-4',\n",
       " '2023-4-3',\n",
       " '2023-3-31',\n",
       " '2023-3-30',\n",
       " '2023-3-29',\n",
       " '2023-3-28',\n",
       " '2023-3-27',\n",
       " '2023-3-24',\n",
       " '2023-3-23',\n",
       " '2023-3-22',\n",
       " '2023-3-21',\n",
       " '2023-3-20',\n",
       " '2023-3-17',\n",
       " '2023-3-16',\n",
       " '2023-3-15',\n",
       " '2023-3-14',\n",
       " '2023-3-13',\n",
       " '2023-3-10',\n",
       " '2023-3-9',\n",
       " '2023-3-8',\n",
       " '2023-3-7',\n",
       " '2023-3-6',\n",
       " '2023-3-3',\n",
       " '2023-3-2',\n",
       " '2023-3-1',\n",
       " '2023-2-28',\n",
       " '2023-2-27',\n",
       " '2023-2-24',\n",
       " '2023-2-23',\n",
       " '2023-2-22',\n",
       " '2023-2-21',\n",
       " '2023-2-20',\n",
       " '2023-2-17',\n",
       " '2023-2-16',\n",
       " '2023-2-15',\n",
       " '2023-2-14',\n",
       " '2023-2-13',\n",
       " '2023-2-10',\n",
       " '2023-2-9',\n",
       " '2023-2-8',\n",
       " '2023-2-7',\n",
       " '2023-2-6',\n",
       " '2023-2-3',\n",
       " '2023-2-2',\n",
       " '2023-2-1',\n",
       " '2023-1-31',\n",
       " '2023-1-30',\n",
       " '2023-1-27',\n",
       " '2023-1-26',\n",
       " '2023-1-25',\n",
       " '2023-1-24',\n",
       " '2023-1-23',\n",
       " '2023-1-20',\n",
       " '2023-1-19',\n",
       " '2023-1-18',\n",
       " '2023-1-17',\n",
       " '2023-1-16',\n",
       " '2023-1-13',\n",
       " '2023-1-12',\n",
       " '2023-1-11',\n",
       " '2023-1-10',\n",
       " '2023-1-9',\n",
       " '2023-1-6',\n",
       " '2023-1-5',\n",
       " '2023-1-4',\n",
       " '2023-1-3',\n",
       " '2023-1-2',\n",
       " '2022-12-30',\n",
       " '2022-12-29',\n",
       " '2022-12-28',\n",
       " '2022-12-27',\n",
       " '2022-12-26',\n",
       " '2022-12-23',\n",
       " '2022-12-22',\n",
       " '2022-12-21',\n",
       " '2022-12-20',\n",
       " '2022-12-19',\n",
       " '2022-12-16',\n",
       " '2022-12-15',\n",
       " '2022-12-14',\n",
       " '2022-12-13',\n",
       " '2022-12-12',\n",
       " '2022-12-9',\n",
       " '2022-12-8',\n",
       " '2022-12-7',\n",
       " '2022-12-6',\n",
       " '2022-12-5',\n",
       " '2022-12-2',\n",
       " '2022-12-1',\n",
       " '2022-11-30',\n",
       " '2022-11-29',\n",
       " '2022-11-28',\n",
       " '2022-11-25',\n",
       " '2022-11-24',\n",
       " '2022-11-23',\n",
       " '2022-11-22',\n",
       " '2022-11-21',\n",
       " '2022-11-18',\n",
       " '2022-11-17',\n",
       " '2022-11-16',\n",
       " '2022-11-15',\n",
       " '2022-11-14']"
      ]
     },
     "execution_count": 59,
     "metadata": {},
     "output_type": "execute_result"
    }
   ],
   "source": [
    "TransDate = [] #initiating a tuple\n",
    "#scrapping process\n",
    "#get date \n",
    "for i in range(0,row_length):  \n",
    "    date = table.find_all('a', attrs={'class':'n'})[i].text\n",
    "    \n",
    "    TransDate.append((date))\n",
    "TransDate"
   ]
  },
  {
   "cell_type": "code",
   "execution_count": 60,
   "metadata": {},
   "outputs": [
    {
     "data": {
      "text/plain": [
       "['Rp14,844',\n",
       " 'Rp14,776',\n",
       " 'Rp14,698',\n",
       " 'Rp14,776',\n",
       " 'Rp14,744',\n",
       " 'Rp14,675',\n",
       " 'Rp14,699',\n",
       " 'Rp14,680',\n",
       " 'Rp14,747',\n",
       " 'Rp14,677',\n",
       " 'Rp14,674',\n",
       " 'Rp14,691',\n",
       " 'Rp14,841',\n",
       " 'Rp14,940',\n",
       " 'Rp14,934',\n",
       " 'Rp14,936',\n",
       " 'Rp14,954',\n",
       " 'Rp14,995',\n",
       " 'Rp14,889',\n",
       " 'Rp14,850',\n",
       " 'Rp14,782',\n",
       " 'Rp14,722',\n",
       " 'Rp14,835',\n",
       " 'Rp14,915',\n",
       " 'Rp14,950',\n",
       " 'Rp14,941',\n",
       " 'Rp14,931',\n",
       " 'Rp14,960',\n",
       " 'Rp14,957',\n",
       " 'Rp14,922',\n",
       " 'Rp14,969',\n",
       " 'Rp15,024',\n",
       " 'Rp15,034',\n",
       " 'Rp15,060',\n",
       " 'Rp15,107',\n",
       " 'Rp15,165',\n",
       " 'Rp15,085',\n",
       " 'Rp15,253',\n",
       " 'Rp15,301',\n",
       " 'Rp15,343',\n",
       " 'Rp15,375',\n",
       " 'Rp15,429',\n",
       " 'Rp15,459',\n",
       " 'Rp15,380',\n",
       " 'Rp15,416',\n",
       " 'Rp15,503',\n",
       " 'Rp15,495',\n",
       " 'Rp15,449',\n",
       " 'Rp15,429',\n",
       " 'Rp15,354',\n",
       " 'Rp15,278',\n",
       " 'Rp15,322',\n",
       " 'Rp15,249',\n",
       " 'Rp15,241',\n",
       " 'Rp15,216',\n",
       " 'Rp15,265',\n",
       " 'Rp15,211',\n",
       " 'Rp15,197',\n",
       " 'Rp15,235',\n",
       " 'Rp15,168',\n",
       " 'Rp15,166',\n",
       " 'Rp15,144',\n",
       " 'Rp15,205',\n",
       " 'Rp15,186',\n",
       " 'Rp15,216',\n",
       " 'Rp15,188',\n",
       " 'Rp15,147',\n",
       " 'Rp15,133',\n",
       " 'Rp15,154',\n",
       " 'Rp15,198',\n",
       " 'Rp15,095',\n",
       " 'Rp14,907',\n",
       " 'Rp14,896',\n",
       " 'Rp15,002',\n",
       " 'Rp15,013',\n",
       " 'Rp14,973',\n",
       " 'Rp14,955',\n",
       " 'Rp14,940',\n",
       " 'Rp14,956',\n",
       " 'Rp15,026',\n",
       " 'Rp15,063',\n",
       " 'Rp15,154',\n",
       " 'Rp15,138',\n",
       " 'Rp15,180',\n",
       " 'Rp15,126',\n",
       " 'Rp15,115',\n",
       " 'Rp15,206',\n",
       " 'Rp15,432',\n",
       " 'Rp15,536',\n",
       " 'Rp15,596',\n",
       " 'Rp15,607',\n",
       " 'Rp15,635',\n",
       " 'Rp15,582',\n",
       " 'Rp15,594',\n",
       " 'Rp15,554',\n",
       " 'Rp15,534',\n",
       " 'Rp15,627',\n",
       " 'Rp15,789',\n",
       " 'Rp15,620',\n",
       " 'Rp15,621',\n",
       " 'Rp15,582',\n",
       " 'Rp15,574',\n",
       " 'Rp15,540',\n",
       " 'Rp15,564',\n",
       " 'Rp15,568',\n",
       " 'Rp15,616',\n",
       " 'Rp15,629',\n",
       " 'Rp15,543',\n",
       " 'Rp15,560',\n",
       " 'Rp15,676',\n",
       " 'Rp15,604',\n",
       " 'Rp15,594',\n",
       " 'Rp15,612',\n",
       " 'Rp15,625',\n",
       " 'Rp15,520',\n",
       " 'Rp15,376',\n",
       " 'Rp15,389',\n",
       " 'Rp15,633',\n",
       " 'Rp15,734',\n",
       " 'Rp15,743',\n",
       " 'Rp15,693',\n",
       " 'Rp15,647',\n",
       " 'Rp15,626',\n",
       " 'Rp15,664',\n",
       " 'Rp15,741',\n",
       " 'Rp15,641',\n",
       " 'Rp15,714',\n",
       " 'Rp15,639',\n",
       " 'Rp15,557',\n",
       " 'Rp15,554']"
      ]
     },
     "execution_count": 60,
     "metadata": {},
     "output_type": "execute_result"
    }
   ],
   "source": [
    "USDtoIDR = []\n",
    "\n",
    "for i in range(1,row_length_kurs,4):\n",
    "    kurs_Rp = table.find_all('span', attrs={'class':'nowrap'})[i].text\n",
    "\n",
    "    USDtoIDR.append((kurs_Rp))\n",
    "USDtoIDR     "
   ]
  },
  {
   "cell_type": "markdown",
   "metadata": {},
   "source": [
    "\n",
    "Then we combine the `TransDate` and `USDtoIDR` data to form a list of data using the `list(zip(__,__))` function so that they can be converted to one dataframe."
   ]
  },
  {
   "cell_type": "code",
   "execution_count": 61,
   "metadata": {},
   "outputs": [
    {
     "data": {
      "text/plain": [
       "[('2023-5-12', 'Rp14,844'),\n",
       " ('2023-5-11', 'Rp14,776'),\n",
       " ('2023-5-10', 'Rp14,698'),\n",
       " ('2023-5-9', 'Rp14,776'),\n",
       " ('2023-5-8', 'Rp14,744'),\n",
       " ('2023-5-5', 'Rp14,675'),\n",
       " ('2023-5-4', 'Rp14,699'),\n",
       " ('2023-5-3', 'Rp14,680'),\n",
       " ('2023-5-2', 'Rp14,747'),\n",
       " ('2023-5-1', 'Rp14,677'),\n",
       " ('2023-4-28', 'Rp14,674'),\n",
       " ('2023-4-27', 'Rp14,691'),\n",
       " ('2023-4-26', 'Rp14,841'),\n",
       " ('2023-4-25', 'Rp14,940'),\n",
       " ('2023-4-24', 'Rp14,934'),\n",
       " ('2023-4-21', 'Rp14,936'),\n",
       " ('2023-4-20', 'Rp14,954'),\n",
       " ('2023-4-19', 'Rp14,995'),\n",
       " ('2023-4-18', 'Rp14,889'),\n",
       " ('2023-4-17', 'Rp14,850'),\n",
       " ('2023-4-14', 'Rp14,782'),\n",
       " ('2023-4-13', 'Rp14,722'),\n",
       " ('2023-4-12', 'Rp14,835'),\n",
       " ('2023-4-11', 'Rp14,915'),\n",
       " ('2023-4-10', 'Rp14,950'),\n",
       " ('2023-4-7', 'Rp14,941'),\n",
       " ('2023-4-6', 'Rp14,931'),\n",
       " ('2023-4-5', 'Rp14,960'),\n",
       " ('2023-4-4', 'Rp14,957'),\n",
       " ('2023-4-3', 'Rp14,922'),\n",
       " ('2023-3-31', 'Rp14,969'),\n",
       " ('2023-3-30', 'Rp15,024'),\n",
       " ('2023-3-29', 'Rp15,034'),\n",
       " ('2023-3-28', 'Rp15,060'),\n",
       " ('2023-3-27', 'Rp15,107'),\n",
       " ('2023-3-24', 'Rp15,165'),\n",
       " ('2023-3-23', 'Rp15,085'),\n",
       " ('2023-3-22', 'Rp15,253'),\n",
       " ('2023-3-21', 'Rp15,301'),\n",
       " ('2023-3-20', 'Rp15,343'),\n",
       " ('2023-3-17', 'Rp15,375'),\n",
       " ('2023-3-16', 'Rp15,429'),\n",
       " ('2023-3-15', 'Rp15,459'),\n",
       " ('2023-3-14', 'Rp15,380'),\n",
       " ('2023-3-13', 'Rp15,416'),\n",
       " ('2023-3-10', 'Rp15,503'),\n",
       " ('2023-3-9', 'Rp15,495'),\n",
       " ('2023-3-8', 'Rp15,449'),\n",
       " ('2023-3-7', 'Rp15,429'),\n",
       " ('2023-3-6', 'Rp15,354'),\n",
       " ('2023-3-3', 'Rp15,278'),\n",
       " ('2023-3-2', 'Rp15,322'),\n",
       " ('2023-3-1', 'Rp15,249'),\n",
       " ('2023-2-28', 'Rp15,241'),\n",
       " ('2023-2-27', 'Rp15,216'),\n",
       " ('2023-2-24', 'Rp15,265'),\n",
       " ('2023-2-23', 'Rp15,211'),\n",
       " ('2023-2-22', 'Rp15,197'),\n",
       " ('2023-2-21', 'Rp15,235'),\n",
       " ('2023-2-20', 'Rp15,168'),\n",
       " ('2023-2-17', 'Rp15,166'),\n",
       " ('2023-2-16', 'Rp15,144'),\n",
       " ('2023-2-15', 'Rp15,205'),\n",
       " ('2023-2-14', 'Rp15,186'),\n",
       " ('2023-2-13', 'Rp15,216'),\n",
       " ('2023-2-10', 'Rp15,188'),\n",
       " ('2023-2-9', 'Rp15,147'),\n",
       " ('2023-2-8', 'Rp15,133'),\n",
       " ('2023-2-7', 'Rp15,154'),\n",
       " ('2023-2-6', 'Rp15,198'),\n",
       " ('2023-2-3', 'Rp15,095'),\n",
       " ('2023-2-2', 'Rp14,907'),\n",
       " ('2023-2-1', 'Rp14,896'),\n",
       " ('2023-1-31', 'Rp15,002'),\n",
       " ('2023-1-30', 'Rp15,013'),\n",
       " ('2023-1-27', 'Rp14,973'),\n",
       " ('2023-1-26', 'Rp14,955'),\n",
       " ('2023-1-25', 'Rp14,940'),\n",
       " ('2023-1-24', 'Rp14,956'),\n",
       " ('2023-1-23', 'Rp15,026'),\n",
       " ('2023-1-20', 'Rp15,063'),\n",
       " ('2023-1-19', 'Rp15,154'),\n",
       " ('2023-1-18', 'Rp15,138'),\n",
       " ('2023-1-17', 'Rp15,180'),\n",
       " ('2023-1-16', 'Rp15,126'),\n",
       " ('2023-1-13', 'Rp15,115'),\n",
       " ('2023-1-12', 'Rp15,206'),\n",
       " ('2023-1-11', 'Rp15,432'),\n",
       " ('2023-1-10', 'Rp15,536'),\n",
       " ('2023-1-9', 'Rp15,596'),\n",
       " ('2023-1-6', 'Rp15,607'),\n",
       " ('2023-1-5', 'Rp15,635'),\n",
       " ('2023-1-4', 'Rp15,582'),\n",
       " ('2023-1-3', 'Rp15,594'),\n",
       " ('2023-1-2', 'Rp15,554'),\n",
       " ('2022-12-30', 'Rp15,534'),\n",
       " ('2022-12-29', 'Rp15,627'),\n",
       " ('2022-12-28', 'Rp15,789'),\n",
       " ('2022-12-27', 'Rp15,620'),\n",
       " ('2022-12-26', 'Rp15,621'),\n",
       " ('2022-12-23', 'Rp15,582'),\n",
       " ('2022-12-22', 'Rp15,574'),\n",
       " ('2022-12-21', 'Rp15,540'),\n",
       " ('2022-12-20', 'Rp15,564'),\n",
       " ('2022-12-19', 'Rp15,568'),\n",
       " ('2022-12-16', 'Rp15,616'),\n",
       " ('2022-12-15', 'Rp15,629'),\n",
       " ('2022-12-14', 'Rp15,543'),\n",
       " ('2022-12-13', 'Rp15,560'),\n",
       " ('2022-12-12', 'Rp15,676'),\n",
       " ('2022-12-9', 'Rp15,604'),\n",
       " ('2022-12-8', 'Rp15,594'),\n",
       " ('2022-12-7', 'Rp15,612'),\n",
       " ('2022-12-6', 'Rp15,625'),\n",
       " ('2022-12-5', 'Rp15,520'),\n",
       " ('2022-12-2', 'Rp15,376'),\n",
       " ('2022-12-1', 'Rp15,389'),\n",
       " ('2022-11-30', 'Rp15,633'),\n",
       " ('2022-11-29', 'Rp15,734'),\n",
       " ('2022-11-28', 'Rp15,743'),\n",
       " ('2022-11-25', 'Rp15,693'),\n",
       " ('2022-11-24', 'Rp15,647'),\n",
       " ('2022-11-23', 'Rp15,626'),\n",
       " ('2022-11-22', 'Rp15,664'),\n",
       " ('2022-11-21', 'Rp15,741'),\n",
       " ('2022-11-18', 'Rp15,641'),\n",
       " ('2022-11-17', 'Rp15,714'),\n",
       " ('2022-11-16', 'Rp15,639'),\n",
       " ('2022-11-15', 'Rp15,557'),\n",
       " ('2022-11-14', 'Rp15,554')]"
      ]
     },
     "execution_count": 61,
     "metadata": {},
     "output_type": "execute_result"
    }
   ],
   "source": [
    "Exchange = list(zip(TransDate, USDtoIDR))\n",
    "Exchange"
   ]
  },
  {
   "cell_type": "markdown",
   "metadata": {},
   "source": [
    "To do a further analysis let's reverse our list we can use `::-1` to do that, because the original webpage give us reversed information."
   ]
  },
  {
   "cell_type": "code",
   "execution_count": 62,
   "metadata": {},
   "outputs": [
    {
     "data": {
      "text/plain": [
       "[('2022-11-14', 'Rp15,554'),\n",
       " ('2022-11-15', 'Rp15,557'),\n",
       " ('2022-11-16', 'Rp15,639'),\n",
       " ('2022-11-17', 'Rp15,714'),\n",
       " ('2022-11-18', 'Rp15,641'),\n",
       " ('2022-11-21', 'Rp15,741'),\n",
       " ('2022-11-22', 'Rp15,664'),\n",
       " ('2022-11-23', 'Rp15,626'),\n",
       " ('2022-11-24', 'Rp15,647'),\n",
       " ('2022-11-25', 'Rp15,693')]"
      ]
     },
     "execution_count": 62,
     "metadata": {},
     "output_type": "execute_result"
    }
   ],
   "source": [
    "Exchange=Exchange[::-1]\n",
    "Exchange[:10]"
   ]
  },
  {
   "cell_type": "markdown",
   "metadata": {},
   "source": [
    "## Creating data frame & Data wrangling"
   ]
  },
  {
   "cell_type": "markdown",
   "metadata": {},
   "source": [
    "Put the array into dataframe"
   ]
  },
  {
   "cell_type": "code",
   "execution_count": 63,
   "metadata": {
    "ExecuteTime": {
     "end_time": "2020-01-13T05:12:41.517372Z",
     "start_time": "2020-01-13T05:12:29.130015Z"
    },
    "scrolled": true
   },
   "outputs": [
    {
     "data": {
      "text/html": [
       "<div>\n",
       "<style scoped>\n",
       "    .dataframe tbody tr th:only-of-type {\n",
       "        vertical-align: middle;\n",
       "    }\n",
       "\n",
       "    .dataframe tbody tr th {\n",
       "        vertical-align: top;\n",
       "    }\n",
       "\n",
       "    .dataframe thead th {\n",
       "        text-align: right;\n",
       "    }\n",
       "</style>\n",
       "<table border=\"1\" class=\"dataframe\">\n",
       "  <thead>\n",
       "    <tr style=\"text-align: right;\">\n",
       "      <th></th>\n",
       "      <th>Date</th>\n",
       "      <th>USDtoIDR</th>\n",
       "    </tr>\n",
       "  </thead>\n",
       "  <tbody>\n",
       "    <tr>\n",
       "      <th>0</th>\n",
       "      <td>2022-11-14</td>\n",
       "      <td>Rp15,554</td>\n",
       "    </tr>\n",
       "    <tr>\n",
       "      <th>1</th>\n",
       "      <td>2022-11-15</td>\n",
       "      <td>Rp15,557</td>\n",
       "    </tr>\n",
       "    <tr>\n",
       "      <th>2</th>\n",
       "      <td>2022-11-16</td>\n",
       "      <td>Rp15,639</td>\n",
       "    </tr>\n",
       "    <tr>\n",
       "      <th>3</th>\n",
       "      <td>2022-11-17</td>\n",
       "      <td>Rp15,714</td>\n",
       "    </tr>\n",
       "    <tr>\n",
       "      <th>4</th>\n",
       "      <td>2022-11-18</td>\n",
       "      <td>Rp15,641</td>\n",
       "    </tr>\n",
       "  </tbody>\n",
       "</table>\n",
       "</div>"
      ],
      "text/plain": [
       "         Date  USDtoIDR\n",
       "0  2022-11-14  Rp15,554\n",
       "1  2022-11-15  Rp15,557\n",
       "2  2022-11-16  Rp15,639\n",
       "3  2022-11-17  Rp15,714\n",
       "4  2022-11-18  Rp15,641"
      ]
     },
     "execution_count": 63,
     "metadata": {},
     "output_type": "execute_result"
    }
   ],
   "source": [
    "import pandas as pd\n",
    "pd.options.display.float_format = '{:,.2f}'.format\n",
    "df = pd.DataFrame(Exchange,columns=('Date','USDtoIDR'))\n",
    "df.head()"
   ]
  },
  {
   "cell_type": "markdown",
   "metadata": {},
   "source": [
    "\n",
    "The data that is formed from the conversion of the list to the dataframe has a data type object, so it is necessary to change the appropriate data type and clean up unused strings."
   ]
  },
  {
   "cell_type": "code",
   "execution_count": 64,
   "metadata": {
    "ExecuteTime": {
     "end_time": "2020-01-13T05:12:59.165559Z",
     "start_time": "2020-01-13T05:12:58.910012Z"
    },
    "scrolled": true
   },
   "outputs": [
    {
     "data": {
      "text/plain": [
       "Date        object\n",
       "USDtoIDR    object\n",
       "dtype: object"
      ]
     },
     "execution_count": 64,
     "metadata": {},
     "output_type": "execute_result"
    }
   ],
   "source": [
    "df.dtypes"
   ]
  },
  {
   "cell_type": "code",
   "execution_count": 65,
   "metadata": {
    "scrolled": true
   },
   "outputs": [],
   "source": [
    "df['USDtoIDR']=df['USDtoIDR'].str.replace('Rp','')"
   ]
  },
  {
   "cell_type": "code",
   "execution_count": 66,
   "metadata": {},
   "outputs": [
    {
     "data": {
      "text/html": [
       "<div>\n",
       "<style scoped>\n",
       "    .dataframe tbody tr th:only-of-type {\n",
       "        vertical-align: middle;\n",
       "    }\n",
       "\n",
       "    .dataframe tbody tr th {\n",
       "        vertical-align: top;\n",
       "    }\n",
       "\n",
       "    .dataframe thead th {\n",
       "        text-align: right;\n",
       "    }\n",
       "</style>\n",
       "<table border=\"1\" class=\"dataframe\">\n",
       "  <thead>\n",
       "    <tr style=\"text-align: right;\">\n",
       "      <th></th>\n",
       "      <th>Date</th>\n",
       "      <th>USDtoIDR</th>\n",
       "    </tr>\n",
       "  </thead>\n",
       "  <tbody>\n",
       "    <tr>\n",
       "      <th>0</th>\n",
       "      <td>2022-11-14</td>\n",
       "      <td>15554</td>\n",
       "    </tr>\n",
       "    <tr>\n",
       "      <th>1</th>\n",
       "      <td>2022-11-15</td>\n",
       "      <td>15557</td>\n",
       "    </tr>\n",
       "    <tr>\n",
       "      <th>2</th>\n",
       "      <td>2022-11-16</td>\n",
       "      <td>15639</td>\n",
       "    </tr>\n",
       "    <tr>\n",
       "      <th>3</th>\n",
       "      <td>2022-11-17</td>\n",
       "      <td>15714</td>\n",
       "    </tr>\n",
       "    <tr>\n",
       "      <th>4</th>\n",
       "      <td>2022-11-18</td>\n",
       "      <td>15641</td>\n",
       "    </tr>\n",
       "    <tr>\n",
       "      <th>...</th>\n",
       "      <td>...</td>\n",
       "      <td>...</td>\n",
       "    </tr>\n",
       "    <tr>\n",
       "      <th>125</th>\n",
       "      <td>2023-5-8</td>\n",
       "      <td>14744</td>\n",
       "    </tr>\n",
       "    <tr>\n",
       "      <th>126</th>\n",
       "      <td>2023-5-9</td>\n",
       "      <td>14776</td>\n",
       "    </tr>\n",
       "    <tr>\n",
       "      <th>127</th>\n",
       "      <td>2023-5-10</td>\n",
       "      <td>14698</td>\n",
       "    </tr>\n",
       "    <tr>\n",
       "      <th>128</th>\n",
       "      <td>2023-5-11</td>\n",
       "      <td>14776</td>\n",
       "    </tr>\n",
       "    <tr>\n",
       "      <th>129</th>\n",
       "      <td>2023-5-12</td>\n",
       "      <td>14844</td>\n",
       "    </tr>\n",
       "  </tbody>\n",
       "</table>\n",
       "<p>130 rows × 2 columns</p>\n",
       "</div>"
      ],
      "text/plain": [
       "           Date USDtoIDR\n",
       "0    2022-11-14    15554\n",
       "1    2022-11-15    15557\n",
       "2    2022-11-16    15639\n",
       "3    2022-11-17    15714\n",
       "4    2022-11-18    15641\n",
       "..          ...      ...\n",
       "125    2023-5-8    14744\n",
       "126    2023-5-9    14776\n",
       "127   2023-5-10    14698\n",
       "128   2023-5-11    14776\n",
       "129   2023-5-12    14844\n",
       "\n",
       "[130 rows x 2 columns]"
      ]
     },
     "execution_count": 66,
     "metadata": {},
     "output_type": "execute_result"
    }
   ],
   "source": [
    "df['USDtoIDR']=df['USDtoIDR'].str.replace(',','')\n",
    "df"
   ]
  },
  {
   "cell_type": "code",
   "execution_count": 67,
   "metadata": {
    "scrolled": false
   },
   "outputs": [
    {
     "data": {
      "text/plain": [
       "Date        datetime64[ns]\n",
       "USDtoIDR             int64\n",
       "dtype: object"
      ]
     },
     "execution_count": 67,
     "metadata": {},
     "output_type": "execute_result"
    }
   ],
   "source": [
    "df['USDtoIDR'] = df['USDtoIDR'].astype('int64')\n",
    "df['Date'] = df['Date'].astype('datetime64[ns]')\n",
    "\n",
    "df.dtypes"
   ]
  },
  {
   "cell_type": "markdown",
   "metadata": {},
   "source": [
    "\n",
    "In the visualization process, it is necessary to set `Date` to be an index so that it is not read as data for graphing."
   ]
  },
  {
   "cell_type": "code",
   "execution_count": 68,
   "metadata": {},
   "outputs": [],
   "source": [
    "df = df.set_index('Date')"
   ]
  },
  {
   "cell_type": "code",
   "execution_count": 69,
   "metadata": {},
   "outputs": [
    {
     "data": {
      "text/plain": [
       "<Axes: title={'center': 'US Dollar (USD) To Indonesian Rupiah (IDR) Exchange Rate History'}, xlabel='Date', ylabel='Rate (Rp)'>"
      ]
     },
     "execution_count": 69,
     "metadata": {},
     "output_type": "execute_result"
    },
    {
     "data": {
      "image/png": "[encoded data removed]",
      "text/plain": [
       "<Figure size 1200x800 with 1 Axes>"
      ]
     },
     "metadata": {},
     "output_type": "display_data"
    }
   ],
   "source": [
    "df.plot(title='US Dollar (USD) To Indonesian Rupiah (IDR) Exchange Rate History',\n",
    "               xlabel='Date',\n",
    "               ylabel='Rate (Rp)',\n",
    "               figsize=(12,8)\n",
    "       )"
   ]
  },
  {
   "cell_type": "markdown",
   "metadata": {},
   "source": [
    "### Implementing your webscrapping to the flask dashboard\n",
    "\n",
    "- Copy paste all of your web scrapping process to the desired position on the `app.py`\n",
    "- Changing the title of the dasboard at `index.html`"
   ]
  },
  {
   "cell_type": "markdown",
   "metadata": {},
   "source": [
    "## Analysis and Conclusion"
   ]
  },
  {
   "cell_type": "code",
   "execution_count": 77,
   "metadata": {},
   "outputs": [
    {
     "data": {
      "text/html": [
       "<div>\n",
       "<style scoped>\n",
       "    .dataframe tbody tr th:only-of-type {\n",
       "        vertical-align: middle;\n",
       "    }\n",
       "\n",
       "    .dataframe tbody tr th {\n",
       "        vertical-align: top;\n",
       "    }\n",
       "\n",
       "    .dataframe thead th {\n",
       "        text-align: right;\n",
       "    }\n",
       "</style>\n",
       "<table border=\"1\" class=\"dataframe\">\n",
       "  <thead>\n",
       "    <tr style=\"text-align: right;\">\n",
       "      <th></th>\n",
       "      <th>USDtoIDR</th>\n",
       "    </tr>\n",
       "  </thead>\n",
       "  <tbody>\n",
       "    <tr>\n",
       "      <th>count</th>\n",
       "      <td>130.00</td>\n",
       "    </tr>\n",
       "    <tr>\n",
       "      <th>mean</th>\n",
       "      <td>15,240.88</td>\n",
       "    </tr>\n",
       "    <tr>\n",
       "      <th>std</th>\n",
       "      <td>315.06</td>\n",
       "    </tr>\n",
       "    <tr>\n",
       "      <th>min</th>\n",
       "      <td>14,674.00</td>\n",
       "    </tr>\n",
       "    <tr>\n",
       "      <th>25%</th>\n",
       "      <td>14,957.75</td>\n",
       "    </tr>\n",
       "    <tr>\n",
       "      <th>50%</th>\n",
       "      <td>15,208.50</td>\n",
       "    </tr>\n",
       "    <tr>\n",
       "      <th>75%</th>\n",
       "      <td>15,556.25</td>\n",
       "    </tr>\n",
       "    <tr>\n",
       "      <th>max</th>\n",
       "      <td>15,789.00</td>\n",
       "    </tr>\n",
       "  </tbody>\n",
       "</table>\n",
       "</div>"
      ],
      "text/plain": [
       "       USDtoIDR\n",
       "count    130.00\n",
       "mean  15,240.88\n",
       "std      315.06\n",
       "min   14,674.00\n",
       "25%   14,957.75\n",
       "50%   15,208.50\n",
       "75%   15,556.25\n",
       "max   15,789.00"
      ]
     },
     "execution_count": 77,
     "metadata": {},
     "output_type": "execute_result"
    }
   ],
   "source": [
    "df.describe(include='number')"
   ]
  },
  {
   "cell_type": "code",
   "execution_count": 70,
   "metadata": {
    "scrolled": false
   },
   "outputs": [
    {
     "data": {
      "text/plain": [
       "Timestamp('2022-12-28 00:00:00')"
      ]
     },
     "execution_count": 70,
     "metadata": {},
     "output_type": "execute_result"
    }
   ],
   "source": [
    "df['USDtoIDR'].idxmax()"
   ]
  },
  {
   "cell_type": "code",
   "execution_count": 72,
   "metadata": {},
   "outputs": [
    {
     "data": {
      "text/plain": [
       "Timestamp('2023-04-28 00:00:00')"
      ]
     },
     "execution_count": 72,
     "metadata": {},
     "output_type": "execute_result"
    }
   ],
   "source": [
    "df['USDtoIDR'].idxmin()"
   ]
  },
  {
   "cell_type": "markdown",
   "metadata": {
    "ExecuteTime": {
     "end_time": "2020-01-13T05:20:56.208237Z",
     "start_time": "2020-01-13T05:20:56.076043Z"
    }
   },
   "source": [
    "This chart shows data from 2022-11-14 to 2023-5-12.\n",
    "- The USD/IDR rate is down **-5.00% in the six months**. This means the US Dollar has decreased in value compared to the Indonesian Rupiah.\n",
    "- Highest:\t15,789 IDR on December 28, 2022\n",
    "- Lowest :\t14,674 IDR on April 28, 2023"
   ]
  },
  {
   "cell_type": "markdown",
   "metadata": {},
   "source": [
    "### Implement it at the webapps\n",
    "\n",
    "- You can create additional analysis from the data.\n",
    "- Implement it to the dashboard with at `app.py` dan `index.html`."
   ]
  }
 ],
 "metadata": {
  "kernelspec": {
   "display_name": "vulcan_da",
   "language": "python",
   "name": "vulcan_da"
  },
  "language_info": {
   "codemirror_mode": {
    "name": "ipython",
    "version": 3
   },
   "file_extension": ".py",
   "mimetype": "text/x-python",
   "name": "python",
   "nbconvert_exporter": "python",
   "pygments_lexer": "ipython3",
   "version": "3.10.10"
  }
 },
 "nbformat": 4,
 "nbformat_minor": 2
}
